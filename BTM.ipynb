{
 "cells": [
  {
   "cell_type": "code",
   "execution_count": 4,
   "id": "a2b2e9b0-b143-40ce-8303-bcb2a1c25eb1",
   "metadata": {},
   "outputs": [],
   "source": [
    "import bitermplus as btm\n",
    "import numpy as np\n",
    "import pandas as pd\n",
    "from sklearn.feature_extraction import DictVectorizer"
   ]
  },
  {
   "cell_type": "code",
   "execution_count": 5,
   "id": "4c4ea2a0-f0d7-4a94-9ddc-1e8194b53649",
   "metadata": {},
   "outputs": [],
   "source": [
    "# IMPORTING DATA\n",
    "df = pd.read_csv(\n",
    "    'village_names.txt', header=None, names=['texts'])\n",
    "\n",
    "df = df.dropna()\n",
    "texts = df['texts'].str.strip().tolist()"
   ]
  },
  {
   "cell_type": "code",
   "execution_count": 6,
   "id": "6987712b-e2c7-43ad-acda-3d73a120fa61",
   "metadata": {},
   "outputs": [],
   "source": [
    "# PREPROCESSING\n",
    "# Obtaining terms frequency in a sparse matrix and corpus vocabulary\n",
    "X, vocabulary, vocab_dict = btm.get_words_freqs(texts)\n",
    "tf = np.array(X.sum(axis=0)).ravel()"
   ]
  },
  {
   "cell_type": "code",
   "execution_count": 7,
   "id": "be278269-d71e-419d-bfd1-498fa34447e1",
   "metadata": {},
   "outputs": [],
   "source": [
    "# Vectorizing documents\n",
    "docs_vec = btm.get_vectorized_docs(texts, vocabulary)\n",
    "docs_lens = list(map(len, docs_vec))"
   ]
  },
  {
   "cell_type": "code",
   "execution_count": 8,
   "id": "8c6384f9-0493-4dad-88b3-d247cd0959cb",
   "metadata": {},
   "outputs": [],
   "source": [
    "# Generating biterms\n",
    "biterms = btm.get_biterms(docs_vec)"
   ]
  },
  {
   "cell_type": "code",
   "execution_count": 9,
   "id": "ca05847b-d60b-4790-b329-8201e9d5e88b",
   "metadata": {},
   "outputs": [
    {
     "name": "stderr",
     "output_type": "stream",
     "text": [
      "100%|█████████████████████████████████████████████████████████████████████████████████| 20/20 [00:00<00:00, 137.72it/s]\n",
      "100%|█████████████████████████████████████████████████████████████████████████| 61183/61183 [00:00<00:00, 65863.36it/s]\n"
     ]
    }
   ],
   "source": [
    "# INITIALIZING AND RUNNING MODEL\n",
    "model = btm.BTM(\n",
    "    X, vocabulary, seed=12321, T=8, M=20, alpha=50/8, beta=0.01)\n",
    "model.fit(biterms, iterations=20)\n",
    "p_zd = model.transform(docs_vec)"
   ]
  },
  {
   "cell_type": "code",
   "execution_count": 10,
   "id": "910d6452-3d5c-4bfe-af15-45ee70d0a534",
   "metadata": {},
   "outputs": [],
   "source": [
    "# METRICS\n",
    "perplexity = btm.perplexity(model.matrix_topics_words_, p_zd, X, 8)\n",
    "coherence = btm.coherence(model.matrix_topics_words_, X, M=20)\n",
    "# or\n",
    "perplexity = model.perplexity_\n",
    "coherence = model.coherence_"
   ]
  },
  {
   "cell_type": "code",
   "execution_count": 11,
   "id": "4baf8c48-9640-49d4-b93b-04e083458991",
   "metadata": {},
   "outputs": [
    {
     "name": "stderr",
     "output_type": "stream",
     "text": [
      "C:\\Users\\user\\anaconda3\\lib\\site-packages\\sklearn\\manifold\\_t_sne.py:691: FutureWarning: 'square_distances' has been introduced in 0.24 to help phase out legacy squaring behavior. The 'legacy' setting will be removed in 1.1 (renaming of 0.26), and the default setting will be changed to True. In 1.3, 'square_distances' will be removed altogether, and distances will be squared by default. Set 'square_distances'=True to silence this warning.\n",
      "  warnings.warn(\n"
     ]
    },
    {
     "data": {
      "application/vnd.jupyter.widget-view+json": {
       "model_id": "85edd12748ab4c0a84a017f7cbb833b1",
       "version_major": 2,
       "version_minor": 0
      },
      "text/plain": [
       "VBox(children=(VBox(children=(HBox(children=(HTML(value='<b>Select a topic</b>:'), Dropdown(options=((0, 0), (…"
      ]
     },
     "metadata": {},
     "output_type": "display_data"
    }
   ],
   "source": [
    "# RESULTS VISUALIZATION\n",
    "# You need to install tmplot first\n",
    "import tmplot as tmp\n",
    "tmp.report(model=model, docs=texts)"
   ]
  },
  {
   "cell_type": "code",
   "execution_count": null,
   "id": "e6055dc7-491d-4cc2-8975-b4b2d0489bf5",
   "metadata": {},
   "outputs": [],
   "source": []
  }
 ],
 "metadata": {
  "kernelspec": {
   "display_name": "Python 3",
   "language": "python",
   "name": "python3"
  },
  "language_info": {
   "codemirror_mode": {
    "name": "ipython",
    "version": 3
   },
   "file_extension": ".py",
   "mimetype": "text/x-python",
   "name": "python",
   "nbconvert_exporter": "python",
   "pygments_lexer": "ipython3",
   "version": "3.8.8"
  }
 },
 "nbformat": 4,
 "nbformat_minor": 5
}
