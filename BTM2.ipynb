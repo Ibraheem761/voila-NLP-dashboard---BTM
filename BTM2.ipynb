{
 "cells": [
  {
   "cell_type": "code",
   "execution_count": 297,
   "id": "3403cee2",
   "metadata": {},
   "outputs": [
    {
     "data": {
      "text/html": [
       "\n",
       "    <div style=\"background-color:lightblue;padding:10px;margin-bottom: 25px\">\n",
       "    <h2 style=\"color:black;text-align:center;\">Biterm Topic Modeling for villages</h2>\n",
       "    <p style=\"color:black;text-align:center;\" >This is a <b>Python</b> app used to cluster <b>260.000 villages</b> in 8 topics.</p>\n",
       "    </div>\n",
       "    "
      ],
      "text/plain": [
       "<IPython.core.display.HTML object>"
      ]
     },
     "metadata": {},
     "output_type": "display_data"
    }
   ],
   "source": [
    "from IPython.core.display import display, HTML\n",
    "\n",
    "html_temp = \"\"\"\n",
    "    <div style=\"background-color:lightblue;padding:10px;margin-bottom: 25px\">\n",
    "    <h2 style=\"color:black;text-align:center;\">Biterm Topic Modeling for villages</h2>\n",
    "    <p style=\"color:black;text-align:center;\" >This is a <b>Python</b> app used to cluster <b>260.000 villages</b> in 8 topics.</p>\n",
    "    </div>\n",
    "    \"\"\"\n",
    "\n",
    "display(HTML(html_temp))"
   ]
  },
  {
   "cell_type": "code",
   "execution_count": 298,
   "id": "a2f2a8d4",
   "metadata": {},
   "outputs": [
    {
     "data": {
      "text/html": [
       "<style>\n",
       "body, .output, div {\n",
       "    align-items: center;\n",
       "    text-align: cent\n",
       "</style>"
      ],
      "text/plain": [
       "<IPython.core.display.HTML object>"
      ]
     },
     "execution_count": 298,
     "metadata": {},
     "output_type": "execute_result"
    }
   ],
   "source": [
    "CSS = \"\"\"\n",
    "body, .output, div {\n",
    "    align-items: center;\n",
    "    text-align: cent\n",
    "\"\"\"\n",
    "\n",
    "HTML('<style>{}</style>'.format(CSS))"
   ]
  },
  {
   "cell_type": "code",
   "execution_count": 299,
   "id": "ee0a0307",
   "metadata": {},
   "outputs": [
    {
     "data": {
      "text/html": [
       "<style>\n",
       "table {\n",
       "  margin: 0 auto;\n",
       "}\n",
       "\n",
       ".jp-OutputArea-output.jp-RenderedHTMLCommon table {\n",
       "    margin-left: auto; \n",
       "    margin-right: auto; \n",
       "}\n",
       "</style>"
      ],
      "text/plain": [
       "<IPython.core.display.HTML object>"
      ]
     },
     "execution_count": 299,
     "metadata": {},
     "output_type": "execute_result"
    }
   ],
   "source": [
    "CSS = \"\"\"\n",
    "table {\n",
    "  margin: 0 auto;\n",
    "}\n",
    "\n",
    ".jp-OutputArea-output.jp-RenderedHTMLCommon table {\n",
    "    margin-left: auto; \n",
    "    margin-right: auto; \n",
    "}\n",
    "\"\"\"\n",
    "\n",
    "HTML('<style>{}</style>'.format(CSS))"
   ]
  },
  {
   "cell_type": "code",
   "execution_count": 300,
   "id": "1e01e230",
   "metadata": {},
   "outputs": [
    {
     "data": {
      "text/html": [
       "\n",
       "    <div style=\"background-color:ghostwhite;padding:10px;margin-bottom: 25px\">\n",
       "    <h3 style=\"color:black;text-align:center;\">Clustering report</h3>\n",
       "    </div>\n",
       "    "
      ],
      "text/plain": [
       "<IPython.core.display.HTML object>"
      ]
     },
     "metadata": {},
     "output_type": "display_data"
    }
   ],
   "source": [
    "from IPython.core.display import display, HTML\n",
    "\n",
    "html_temp = \"\"\"\n",
    "    <div style=\"background-color:ghostwhite;padding:10px;margin-bottom: 25px\">\n",
    "    <h3 style=\"color:black;text-align:center;\">Clustering report</h3>\n",
    "    </div>\n",
    "    \"\"\"\n",
    "\n",
    "display(HTML(html_temp))"
   ]
  },
  {
   "cell_type": "code",
   "execution_count": 301,
   "id": "baa2597e",
   "metadata": {},
   "outputs": [
    {
     "data": {
      "application/vnd.jupyter.widget-view+json": {
       "model_id": "23d57d251cee44d9be556aafd090e949",
       "version_major": 2,
       "version_minor": 0
      },
      "text/plain": [
       "VBox(children=(VBox(children=(HBox(children=(HTML(value='<b>Select a topic</b>:'), Dropdown(options=((0, 0), (…"
      ]
     },
     "metadata": {},
     "output_type": "display_data"
    }
   ],
   "source": [
    "# Importing packages\n",
    "import tmplot as tmp\n",
    "import pickle as pkl\n",
    "import pandas as pd\n",
    "import warnings\n",
    "warnings.filterwarnings('ignore')\n",
    "\n",
    "# Reading a model from a file\n",
    "with open('model.pkl', 'rb') as file:\n",
    "    model = pkl.load(file)\n",
    "\n",
    "# Reading documents from a file\n",
    "docs = pd.read_csv(\n",
    "    'village_names.txt', header=None, names=['texts']).values.ravel()\n",
    "\n",
    "tmp.report(model, docs=docs, width=250)"
   ]
  },
  {
   "cell_type": "code",
   "execution_count": 302,
   "id": "fe16b186",
   "metadata": {},
   "outputs": [
    {
     "data": {
      "text/html": [
       "\n",
       "    <div style=\"background-color:ghostwhite;padding:10px;margin-bottom: 25px\">\n",
       "    <h3 style=\"color:black;text-align:center;\">Top documents in each topic</h3>\n",
       "    </div>\n",
       "    "
      ],
      "text/plain": [
       "<IPython.core.display.HTML object>"
      ]
     },
     "metadata": {},
     "output_type": "display_data"
    }
   ],
   "source": [
    "from IPython.core.display import display, HTML\n",
    "\n",
    "html_temp = \"\"\"\n",
    "    <div style=\"background-color:ghostwhite;padding:10px;margin-bottom: 25px\">\n",
    "    <h3 style=\"color:black;text-align:center;\">Top documents in each topic</h3>\n",
    "    </div>\n",
    "    \"\"\"\n",
    "\n",
    "display(HTML(html_temp))"
   ]
  },
  {
   "cell_type": "code",
   "execution_count": 303,
   "id": "18d52910",
   "metadata": {},
   "outputs": [
    {
     "data": {
      "text/html": [
       "<div>\n",
       "<style scoped>\n",
       "    .dataframe tbody tr th:only-of-type {\n",
       "        vertical-align: middle;\n",
       "    }\n",
       "\n",
       "    .dataframe tbody tr th {\n",
       "        vertical-align: top;\n",
       "    }\n",
       "\n",
       "    .dataframe thead th {\n",
       "        text-align: right;\n",
       "    }\n",
       "</style>\n",
       "<table border=\"1\" class=\"dataframe\">\n",
       "  <thead>\n",
       "    <tr style=\"text-align: right;\">\n",
       "      <th></th>\n",
       "      <th>topic0</th>\n",
       "      <th>topic1</th>\n",
       "      <th>topic2</th>\n",
       "      <th>topic3</th>\n",
       "      <th>topic4</th>\n",
       "      <th>topic5</th>\n",
       "      <th>topic6</th>\n",
       "      <th>topic7</th>\n",
       "    </tr>\n",
       "  </thead>\n",
       "  <tbody>\n",
       "    <tr>\n",
       "      <th>0</th>\n",
       "      <td>buku</td>\n",
       "      <td>beNa</td>\n",
       "      <td>bako</td>\n",
       "      <td>bula berim</td>\n",
       "      <td>malemmay sofoa</td>\n",
       "      <td>bukan madayiki</td>\n",
       "      <td>berekrom</td>\n",
       "      <td>mberi</td>\n",
       "    </tr>\n",
       "    <tr>\n",
       "      <th>1</th>\n",
       "      <td>bokote kota</td>\n",
       "      <td>begel</td>\n",
       "      <td>bakopone</td>\n",
       "      <td>kurtu</td>\n",
       "      <td>garin mala hasan</td>\n",
       "      <td>lemghas</td>\n",
       "      <td>konne</td>\n",
       "      <td>river fene</td>\n",
       "    </tr>\n",
       "    <tr>\n",
       "      <th>2</th>\n",
       "      <td>mamankal tondi</td>\n",
       "      <td>burutu</td>\n",
       "      <td>igbo emabam</td>\n",
       "      <td>siku</td>\n",
       "      <td>maley</td>\n",
       "      <td>loghvire</td>\n",
       "      <td>Namso</td>\n",
       "      <td>monts kuffe</td>\n",
       "    </tr>\n",
       "    <tr>\n",
       "      <th>3</th>\n",
       "      <td>dere</td>\n",
       "      <td>mankaybeti</td>\n",
       "      <td>igbo elemi</td>\n",
       "      <td>banizumbu guidan baba</td>\n",
       "      <td>malgoru</td>\n",
       "      <td>audalu</td>\n",
       "      <td>boizan</td>\n",
       "      <td>warkambu</td>\n",
       "    </tr>\n",
       "    <tr>\n",
       "      <th>4</th>\n",
       "      <td>bondoro-kota</td>\n",
       "      <td>bekoro</td>\n",
       "      <td>igbo-etiti</td>\n",
       "      <td>banizumbu</td>\n",
       "      <td>madusa</td>\n",
       "      <td>kumbuturu</td>\n",
       "      <td>opoNawkrom</td>\n",
       "      <td>monts kuffe</td>\n",
       "    </tr>\n",
       "  </tbody>\n",
       "</table>\n",
       "</div>"
      ],
      "text/plain": [
       "           topic0      topic1       topic2                 topic3  \\\n",
       "0            buku        beNa         bako             bula berim   \n",
       "1     bokote kota       begel     bakopone                  kurtu   \n",
       "2  mamankal tondi      burutu  igbo emabam                   siku   \n",
       "3            dere  mankaybeti   igbo elemi  banizumbu guidan baba   \n",
       "4    bondoro-kota      bekoro   igbo-etiti              banizumbu   \n",
       "\n",
       "             topic4          topic5      topic6       topic7  \n",
       "0    malemmay sofoa  bukan madayiki    berekrom        mberi  \n",
       "1  garin mala hasan         lemghas       konne   river fene  \n",
       "2             maley        loghvire       Namso  monts kuffe  \n",
       "3           malgoru          audalu      boizan     warkambu  \n",
       "4            madusa       kumbuturu  opoNawkrom  monts kuffe  "
      ]
     },
     "execution_count": 303,
     "metadata": {},
     "output_type": "execute_result"
    }
   ],
   "source": [
    "tmp.get_top_docs(docs, model=model)"
   ]
  },
  {
   "cell_type": "code",
   "execution_count": 304,
   "id": "c7b3d6d5",
   "metadata": {},
   "outputs": [
    {
     "data": {
      "text/html": [
       "\n",
       "    <div style=\"background-color:ghostwhite;padding:10px;margin-bottom: 25px; text-align:center\">\n",
       "    <h3 style=\"color:black;text-align:center;\">All documents in each topic</h3>\n",
       "    \n",
       "    <a style=\"font-weight: bold\" target=\"_blank\" href=\"https://docs.google.com/spreadsheets/d/1QgiTscHrQe_edhpVsgHbK-oBHG4INTUR/edit?usp=sharing&ouid=117344325782166386794&rtpof=true&sd=true\">Full Dataframe (Excel file)</a>\n",
       "    </div>\n",
       "    "
      ],
      "text/plain": [
       "<IPython.core.display.HTML object>"
      ]
     },
     "metadata": {},
     "output_type": "display_data"
    }
   ],
   "source": [
    "from IPython.core.display import display, HTML\n",
    "\n",
    "html_temp = \"\"\"\n",
    "    <div style=\"background-color:ghostwhite;padding:10px;margin-bottom: 25px; text-align:center\">\n",
    "    <h3 style=\"color:black;text-align:center;\">All documents in each topic</h3>\n",
    "    \n",
    "    <a style=\"font-weight: bold\" target=\"_blank\" href=\"https://docs.google.com/spreadsheets/d/1QgiTscHrQe_edhpVsgHbK-oBHG4INTUR/edit?usp=sharing&ouid=117344325782166386794&rtpof=true&sd=true\">Full Dataframe (Excel file)</a>\n",
    "    </div>\n",
    "    \"\"\"\n",
    "\n",
    "display(HTML(html_temp))"
   ]
  },
  {
   "cell_type": "code",
   "execution_count": 305,
   "id": "46362889",
   "metadata": {},
   "outputs": [],
   "source": [
    "docs_topic0 = tmp.get_top_docs(docs, model=model, docs_num=100000, topics=[0]).topic0.tolist()\n",
    "docs_topic1 = tmp.get_top_docs(docs, model=model, docs_num=100000, topics=[1]).topic1.tolist()\n",
    "docs_topic2= tmp.get_top_docs(docs, model=model, docs_num=100000, topics=[2]).topic2.tolist()\n",
    "docs_topic3= tmp.get_top_docs(docs, model=model, docs_num=100000, topics=[3]).topic3.tolist()\n",
    "docs_topic4 = tmp.get_top_docs(docs, model=model, docs_num=100000, topics=[4]).topic4.tolist()\n",
    "docs_topic5 = tmp.get_top_docs(docs, model=model, docs_num=100000, topics=[5]).topic5.tolist()\n",
    "docs_topic6 = tmp.get_top_docs(docs, model=model, docs_num=100000, topics=[6]).topic6.tolist()\n",
    "docs_topic7 = tmp.get_top_docs(docs, model=model, docs_num=100000, topics=[7]).topic7.tolist()\n"
   ]
  },
  {
   "cell_type": "code",
   "execution_count": 306,
   "id": "58602111",
   "metadata": {},
   "outputs": [],
   "source": [
    "alldocs=pd.DataFrame({'Topic 0':docs_topic0,'Topic 1':docs_topic1,'Topic 2':docs_topic2,'Topic 3':docs_topic3,\n",
    "                                   'Topic 4':docs_topic4, 'Topic 5':docs_topic5,'Topic 6':docs_topic6,'Topic 7':docs_topic7} )"
   ]
  },
  {
   "cell_type": "code",
   "execution_count": 307,
   "id": "8cacb7a6",
   "metadata": {},
   "outputs": [
    {
     "data": {
      "text/html": [
       "<div>\n",
       "<style scoped>\n",
       "    .dataframe tbody tr th:only-of-type {\n",
       "        vertical-align: middle;\n",
       "    }\n",
       "\n",
       "    .dataframe tbody tr th {\n",
       "        vertical-align: top;\n",
       "    }\n",
       "\n",
       "    .dataframe thead th {\n",
       "        text-align: right;\n",
       "    }\n",
       "</style>\n",
       "<table border=\"1\" class=\"dataframe\">\n",
       "  <thead>\n",
       "    <tr style=\"text-align: right;\">\n",
       "      <th></th>\n",
       "      <th>Topic 0</th>\n",
       "      <th>Topic 1</th>\n",
       "      <th>Topic 2</th>\n",
       "      <th>Topic 3</th>\n",
       "      <th>Topic 4</th>\n",
       "      <th>Topic 5</th>\n",
       "      <th>Topic 6</th>\n",
       "      <th>Topic 7</th>\n",
       "    </tr>\n",
       "  </thead>\n",
       "  <tbody>\n",
       "    <tr>\n",
       "      <th>0</th>\n",
       "      <td>buku</td>\n",
       "      <td>beNa</td>\n",
       "      <td>bako</td>\n",
       "      <td>bula berim</td>\n",
       "      <td>malemmay sofoa</td>\n",
       "      <td>bukan madayiki</td>\n",
       "      <td>berekrom</td>\n",
       "      <td>mberi</td>\n",
       "    </tr>\n",
       "    <tr>\n",
       "      <th>1</th>\n",
       "      <td>bokote kota</td>\n",
       "      <td>begel</td>\n",
       "      <td>bakopone</td>\n",
       "      <td>kurtu</td>\n",
       "      <td>garin mala hasan</td>\n",
       "      <td>lemghas</td>\n",
       "      <td>konne</td>\n",
       "      <td>river fene</td>\n",
       "    </tr>\n",
       "    <tr>\n",
       "      <th>2</th>\n",
       "      <td>mamankal tondi</td>\n",
       "      <td>burutu</td>\n",
       "      <td>igbo emabam</td>\n",
       "      <td>siku</td>\n",
       "      <td>maley</td>\n",
       "      <td>loghvire</td>\n",
       "      <td>Namso</td>\n",
       "      <td>monts kuffe</td>\n",
       "    </tr>\n",
       "    <tr>\n",
       "      <th>3</th>\n",
       "      <td>dere</td>\n",
       "      <td>mankaybeti</td>\n",
       "      <td>igbo elemi</td>\n",
       "      <td>banizumbu guidan baba</td>\n",
       "      <td>malgoru</td>\n",
       "      <td>audalu</td>\n",
       "      <td>boizan</td>\n",
       "      <td>warkambu</td>\n",
       "    </tr>\n",
       "    <tr>\n",
       "      <th>4</th>\n",
       "      <td>bondoro-kota</td>\n",
       "      <td>bekoro</td>\n",
       "      <td>igbo-etiti</td>\n",
       "      <td>banizumbu</td>\n",
       "      <td>madusa</td>\n",
       "      <td>kumbuturu</td>\n",
       "      <td>opoNawkrom</td>\n",
       "      <td>monts kuffe</td>\n",
       "    </tr>\n",
       "    <tr>\n",
       "      <th>...</th>\n",
       "      <td>...</td>\n",
       "      <td>...</td>\n",
       "      <td>...</td>\n",
       "      <td>...</td>\n",
       "      <td>...</td>\n",
       "      <td>...</td>\n",
       "      <td>...</td>\n",
       "      <td>...</td>\n",
       "    </tr>\n",
       "    <tr>\n",
       "      <th>61178</th>\n",
       "      <td>azel</td>\n",
       "      <td>mayu</td>\n",
       "      <td>ahesu</td>\n",
       "      <td>ahar</td>\n",
       "      <td>Ceako</td>\n",
       "      <td>ikhuen</td>\n",
       "      <td>igodo</td>\n",
       "      <td>mara-mawa</td>\n",
       "    </tr>\n",
       "    <tr>\n",
       "      <th>61179</th>\n",
       "      <td>kerenku</td>\n",
       "      <td>bagone</td>\n",
       "      <td>ikot okpora</td>\n",
       "      <td>miri</td>\n",
       "      <td>Cealeva</td>\n",
       "      <td>adumkrom</td>\n",
       "      <td>Cwenenwiri</td>\n",
       "      <td>tungan yusufu</td>\n",
       "    </tr>\n",
       "    <tr>\n",
       "      <th>61180</th>\n",
       "      <td>zahankaan</td>\n",
       "      <td>laye-yarce</td>\n",
       "      <td>ikot okon</td>\n",
       "      <td>yau</td>\n",
       "      <td>Ceanar</td>\n",
       "      <td>gyingyinkofikrom</td>\n",
       "      <td>igo</td>\n",
       "      <td>tungan-naCini</td>\n",
       "    </tr>\n",
       "    <tr>\n",
       "      <th>61181</th>\n",
       "      <td>nkpotyo</td>\n",
       "      <td>saint-joseph</td>\n",
       "      <td>bambuguninkoro</td>\n",
       "      <td>rama</td>\n",
       "      <td>CeCe</td>\n",
       "      <td>kolonkan-sirakoro</td>\n",
       "      <td>ushil</td>\n",
       "      <td>gidan same</td>\n",
       "    </tr>\n",
       "    <tr>\n",
       "      <th>61182</th>\n",
       "      <td>chien-buanbu</td>\n",
       "      <td>yanihun</td>\n",
       "      <td>musumkwa</td>\n",
       "      <td>Ciruma</td>\n",
       "      <td>wi-maye</td>\n",
       "      <td>CaiCai</td>\n",
       "      <td>mosan</td>\n",
       "      <td>ago-tayo</td>\n",
       "    </tr>\n",
       "  </tbody>\n",
       "</table>\n",
       "<p>61183 rows × 8 columns</p>\n",
       "</div>"
      ],
      "text/plain": [
       "              Topic 0       Topic 1         Topic 2                Topic 3  \\\n",
       "0                buku          beNa            bako             bula berim   \n",
       "1         bokote kota         begel        bakopone                  kurtu   \n",
       "2      mamankal tondi        burutu     igbo emabam                   siku   \n",
       "3                dere    mankaybeti      igbo elemi  banizumbu guidan baba   \n",
       "4        bondoro-kota        bekoro      igbo-etiti              banizumbu   \n",
       "...               ...           ...             ...                    ...   \n",
       "61178            azel          mayu           ahesu                   ahar   \n",
       "61179         kerenku        bagone     ikot okpora                   miri   \n",
       "61180       zahankaan    laye-yarce       ikot okon                    yau   \n",
       "61181         nkpotyo  saint-joseph  bambuguninkoro                   rama   \n",
       "61182    chien-buanbu       yanihun        musumkwa                 Ciruma   \n",
       "\n",
       "                Topic 4            Topic 5     Topic 6        Topic 7  \n",
       "0        malemmay sofoa     bukan madayiki    berekrom          mberi  \n",
       "1      garin mala hasan            lemghas       konne     river fene  \n",
       "2                 maley           loghvire       Namso    monts kuffe  \n",
       "3               malgoru             audalu      boizan       warkambu  \n",
       "4                madusa          kumbuturu  opoNawkrom    monts kuffe  \n",
       "...                 ...                ...         ...            ...  \n",
       "61178             Ceako             ikhuen       igodo      mara-mawa  \n",
       "61179           Cealeva           adumkrom  Cwenenwiri  tungan yusufu  \n",
       "61180            Ceanar   gyingyinkofikrom         igo  tungan-naCini  \n",
       "61181              CeCe  kolonkan-sirakoro       ushil     gidan same  \n",
       "61182           wi-maye             CaiCai       mosan       ago-tayo  \n",
       "\n",
       "[61183 rows x 8 columns]"
      ]
     },
     "execution_count": 307,
     "metadata": {},
     "output_type": "execute_result"
    }
   ],
   "source": [
    "pd.set_option(\"max_rows\", 20)\n",
    "alldocs"
   ]
  },
  {
   "cell_type": "code",
   "execution_count": null,
   "id": "4497f4ee",
   "metadata": {},
   "outputs": [],
   "source": []
  },
  {
   "cell_type": "code",
   "execution_count": null,
   "id": "c1465a32",
   "metadata": {},
   "outputs": [],
   "source": []
  }
 ],
 "metadata": {
  "kernelspec": {
   "display_name": "Python 3",
   "language": "python",
   "name": "python3"
  },
  "language_info": {
   "codemirror_mode": {
    "name": "ipython",
    "version": 3
   },
   "file_extension": ".py",
   "mimetype": "text/x-python",
   "name": "python",
   "nbconvert_exporter": "python",
   "pygments_lexer": "ipython3",
   "version": "3.8.8"
  }
 },
 "nbformat": 4,
 "nbformat_minor": 5
}
